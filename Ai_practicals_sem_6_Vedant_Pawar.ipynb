{
  "nbformat": 4,
  "nbformat_minor": 0,
  "metadata": {
    "colab": {
      "provenance": []
    },
    "kernelspec": {
      "name": "python3",
      "display_name": "Python 3"
    },
    "language_info": {
      "name": "python"
    }
  },
  "cells": [
    {
      "cell_type": "code",
      "execution_count": 3,
      "metadata": {
        "colab": {
          "base_uri": "https://localhost:8080/"
        },
        "id": "JB3qvPtzRvFQ",
        "outputId": "e72526cf-372a-4c75-a0af-9208094e869d"
      },
      "outputs": [
        {
          "output_type": "stream",
          "name": "stdout",
          "text": [
            "Path found:  ['1', '8', '12']\n"
          ]
        }
      ],
      "source": [
        "#DLS\n",
        "\n",
        "def rec_DLS(graph, node, goal, depth_lmt):\n",
        "  if node == goal:\n",
        "    return [node]\n",
        "  if depth_lmt ==0:\n",
        "    return None\n",
        "  for neighbour in graph[node]:\n",
        "    result = rec_DLS(graph, neighbour, goal, depth_lmt-1)\n",
        "    if result is not None:\n",
        "      return [node]+ result\n",
        "  return None\n",
        "\n",
        "graph = {\n",
        "'1': ['2', '7', '8'],\n",
        "'2': ['3', '6'],\n",
        "'3': ['4', '5'],\n",
        "'4': [],\n",
        "'5': [],\n",
        "'6': [],\n",
        "'7': [],\n",
        "'8': ['9','12'],\n",
        "'9': ['10','11'],\n",
        "'10': [],\n",
        "'11': [],\n",
        "'12': []\n",
        "}\n",
        "\n",
        "start_node ='1'\n",
        "goal='12'\n",
        "dl = 2\n",
        "\n",
        "result = rec_DLS(graph,start_node,goal,dl)\n",
        "if result:\n",
        "  print(\"Path found: \", result)\n",
        "else:\n",
        "  print(\"Path not found\")"
      ]
    },
    {
      "cell_type": "code",
      "source": [
        "#iddfs\n",
        "\n",
        "def rec_dls(graph, node, goal, depth_lmt):\n",
        "  if node == goal:\n",
        "    return [node]\n",
        "  if depth_lmt ==0:\n",
        "    return None\n",
        "  for neighbour in graph[node]:\n",
        "    print(neighbour)\n",
        "    result = rec_dls(graph, neighbour, goal, depth_lmt-1)\n",
        "    if result is not None:\n",
        "      return [node] + result\n",
        "  return None\n",
        "\n",
        "\n",
        "def iddfs(graph, start, goal):\n",
        "  depth=0\n",
        "  while True:\n",
        "    result = rec_dls(graph, start, goal, depth)\n",
        "    if result is not None:\n",
        "      return result\n",
        "    depth+=1\n",
        "\n",
        "\n",
        "\n",
        "graph = {\n",
        "'1': ['2', '3'],\n",
        "'2': ['4', '5'],\n",
        "'3': ['6', '7'],\n",
        "'4': [],\n",
        "'5': [],\n",
        "'6': ['8', '9'],\n",
        "'7': [],\n",
        "'8': [],\n",
        "'9': []\n",
        "}\n",
        "\n",
        "\n",
        "start_node = '1'\n",
        "goal_node = '8'\n",
        "result = iddfs(graph, start_node, goal_node)\n",
        "if result:\n",
        "    print(\"Path found:\", result)\n",
        "else:\n",
        "    print(\"Path not found within depth limit.\")"
      ],
      "metadata": {
        "colab": {
          "base_uri": "https://localhost:8080/"
        },
        "id": "ThNheaHhW7vk",
        "outputId": "fb5171c8-99fc-4cb4-f68f-079c8939fc5b"
      },
      "execution_count": 7,
      "outputs": [
        {
          "output_type": "stream",
          "name": "stdout",
          "text": [
            "2\n",
            "3\n",
            "2\n",
            "4\n",
            "5\n",
            "3\n",
            "6\n",
            "7\n",
            "2\n",
            "4\n",
            "5\n",
            "3\n",
            "6\n",
            "8\n",
            "Path found: ['1', '3', '6', '8']\n"
          ]
        }
      ]
    },
    {
      "cell_type": "code",
      "source": [
        "def dls(grp, node, goal, depth):\n",
        "  if node == goal:\n",
        "    return [node]\n",
        "  if depth == 0:\n",
        "    return None\n",
        "  for neighbour in grp[node]:\n",
        "    print(neighbour)\n",
        "    result = dls(grp, neighbour, goal, depth-1)\n",
        "    if result is not None:\n",
        "      return [node] + result\n",
        "  return None\n",
        "\n",
        "graph = {\n",
        "'s':['a','b'],\n",
        "'a':['c','d'],\n",
        "'b':['i','j'],\n",
        "'c':['e','f'],\n",
        "'d':['g'],\n",
        "'i':['h'],\n",
        "'j':[],\n",
        "'e':[],\n",
        "'f':[],\n",
        "'g':[],\n",
        "'h':[]\n",
        "}\n",
        "\n",
        "start_node = 's'\n",
        "goal_node = 'j'\n",
        "depth = 2\n",
        "result = dls(graph, start_node, goal_node, depth)\n",
        "if result:\n",
        "  print(\"Path found: \", result)\n",
        "else:\n",
        "  print(\"Path not found\")"
      ],
      "metadata": {
        "colab": {
          "base_uri": "https://localhost:8080/"
        },
        "id": "Q4_i8OfuY5WW",
        "outputId": "71c70002-b5c7-4232-d990-658b4305589c"
      },
      "execution_count": 11,
      "outputs": [
        {
          "output_type": "stream",
          "name": "stdout",
          "text": [
            "a\n",
            "c\n",
            "d\n",
            "b\n",
            "i\n",
            "j\n",
            "Path found:  ['s', 'b', 'j']\n"
          ]
        }
      ]
    },
    {
      "cell_type": "code",
      "source": [
        "#iddfs ma'am question\n",
        "def dls(graph, node, goal, depth):\n",
        "  if node == goal:\n",
        "    return [node]\n",
        "  if depth ==0:\n",
        "    return None\n",
        "  for neigb in graph[node]:\n",
        "    print(neigb)\n",
        "    result = dls(graph, neigb, goal, depth-1)\n",
        "    if result is not None:\n",
        "      return [node] + result\n",
        "  return None\n",
        "\n",
        "def iddfs(graph, start, goal):\n",
        "  depth = 0\n",
        "  while True:\n",
        "    result = dls(graph, start, goal, depth)\n",
        "    if result is not None:\n",
        "      return result\n",
        "    depth+=1\n",
        "\n",
        "graph={\n",
        "'1':['2','3'],\n",
        "'2':['4','5'],\n",
        "'3':['6','7'],\n",
        "'4':['8','9'],\n",
        "'5':['10','11'],\n",
        "'6':['12','13'],\n",
        "'7':['14','15'],\n",
        "'8':[],\n",
        "'9':[],\n",
        "'10':[],\n",
        "'11':[],\n",
        "'12':[],\n",
        "'13':[],\n",
        "'14':[],\n",
        "'15':[]\n",
        "}\n",
        "\n",
        "\n",
        "start = '1'\n",
        "goal = '11'\n",
        "\n",
        "result = iddfs(graph, start,goal)\n",
        "if result:\n",
        "  print(\"path found: \", result)\n",
        "else:\n",
        "  print(\"No path\")"
      ],
      "metadata": {
        "colab": {
          "base_uri": "https://localhost:8080/"
        },
        "id": "KMryRHddcJgc",
        "outputId": "60b9cc08-4539-4554-bf84-c7898932ce87"
      },
      "execution_count": 15,
      "outputs": [
        {
          "output_type": "stream",
          "name": "stdout",
          "text": [
            "2\n",
            "3\n",
            "2\n",
            "4\n",
            "5\n",
            "3\n",
            "6\n",
            "7\n",
            "2\n",
            "4\n",
            "8\n",
            "9\n",
            "5\n",
            "10\n",
            "11\n",
            "path found:  ['1', '2', '5', '11']\n"
          ]
        }
      ]
    },
    {
      "cell_type": "code",
      "source": [
        "#Prolog tower of hanoi\n",
        "# code:\n",
        "\n",
        "# ham(1, Src, Targ, _) :-\n",
        "#     write('move top disk from '), write(Src), write(' to '), write(Targ), nl.\n",
        "\n",
        "# ham(N,Src,Targ,Aux):-\n",
        "#     N >1,\n",
        "#     M is N-1,\n",
        "#     ham(M, Src, Aux, Targ),\n",
        "#     ham(1,Src,Targ,_),\n",
        "#     ham(M,Aux,Targ,Src).\n",
        "\n",
        "# query\n",
        "# ?-ham(3,\"p1\",\"p3\",\"p2\")\n",
        "\n"
      ],
      "metadata": {
        "id": "vhlPrWrid5iV"
      },
      "execution_count": null,
      "outputs": []
    },
    {
      "cell_type": "code",
      "source": [
        "#prolog waterjug\n",
        "# water_jug(X,Y) :- X>4, Y<3, write('4L water jug is overflowed.'),nl.\n",
        "# water_jug(X,Y) :- X<4, Y>3, write('3L water jug is overflowed.'),nl.\n",
        "# water_jug(X,Y) :- X>4, Y>3, write('Both the water jug is overflowed.'),nl.\n",
        "\n",
        "# water_jug(X,Y) :-\n",
        "#     (X=:=0,Y=:=0,nl,write('4L:0 & 3L:3 (Action: Fill 3L jug.)'), YY is 3, water_jug(X,YY));\n",
        "#     (X=:=0,Y=:=3,nl,write('4L:3 & 3L:0 (Action: Pour water from 3L jug to 4L jug.)'), XX is 3, YY is 0, water_jug(XX,YY));\n",
        "#     (X=:=3,Y=:=0,nl,write('4L:3 & 3L:3 (Action: Fill 3L jug.)'), YY is 3, water_jug(X,YY));\n",
        "#     (X=:=3,Y=:=3,nl,write('4L:4 & 3L:2 (Action: Pour water from 3L jug until 4L jug is full.)'),XX is X+1, YY is Y-1, water_jug(XX,YY));\n",
        "#     (X=:=4,Y=:=2,nl,write('4L:0 & 3L:2 (Action: Empty 4L jug.)'), XX is 0, water_jug(XX,Y));\n",
        "#     (X=:=0,Y=:=2,nl,write('4L:2 & 3L:0 (Action: Pour water from 3L jug to 4L jug.)'), XX is Y, YY is X, water_jug(XX,YY));\n",
        "#     (X=:=2,Y=:=0,nl,write('4L:2 & 3L:0 (Action: goal state reached...)')).\n",
        "\n",
        "\n",
        "# query\n",
        "# ?-water_jug(0,0)\n",
        "\n",
        "# output:\n",
        "\n",
        "# 4L:0 & 3L:3 (Action: Fill 3L jug.)\n",
        "# 4L:3 & 3L:0 (Action: Pour water from 3L jug to 4L jug.)\n",
        "# 4L:3 & 3L:3 (Action: Fill 3L jug.)\n",
        "# 4L:4 & 3L:2 (Action: Pour water from 3L jug until 4L jug is full.)\n",
        "# 4L:0 & 3L:2 (Action: Empty 4L jug.)\n",
        "# 4L:2 & 3L:0 (Action: Pour water from 3L jug to 4L jug.)\n",
        "# 4L:2 & 3L:0 (Action: goal state reached...)\n",
        "# 1true"
      ],
      "metadata": {
        "id": "wBgP0_z3zJGs"
      },
      "execution_count": null,
      "outputs": []
    },
    {
      "cell_type": "code",
      "source": [
        "#A star algo implementation\n",
        "\n",
        "def getHeuristics(n):\n",
        "  return heuristics.get(n, float('inf'))\n",
        "\n",
        "\n",
        "def getNeighbors(v):\n",
        "  return graph.get(v, [])\n",
        "\n",
        "\n",
        "def astar(start, goal):\n",
        "  open_set = {start}\n",
        "  g = {start:0}\n",
        "  parents = {start:start}\n",
        "\n",
        "  while open_set:\n",
        "    n = min(open_set, key=lambda x: g[x]+ getHeuristics(x))\n",
        "\n",
        "    if n == goal:\n",
        "      path = []\n",
        "      while parents[n] != n:\n",
        "        path.append(n)\n",
        "        n = parents[n]\n",
        "      path.append(start)\n",
        "      path.reverse()\n",
        "\n",
        "      print(\"Path found: \")\n",
        "      print('->'.join(path))\n",
        "      return path\n",
        "\n",
        "    open_set.remove(n)\n",
        "    for m, weight in getNeighbors(n):\n",
        "      tentative_g = g[n] + weight\n",
        "      if m not in g or tentative_g<g[m]:\n",
        "        g[m] = tentative_g\n",
        "        parents[m] = n\n",
        "        open_set.add(m)\n",
        "\n",
        "  print(\"No path found\")\n",
        "  return None\n",
        "\n",
        "\n",
        "\n",
        "\n",
        "graph = {\n",
        "    'S': [('A', 1)],         #neighbor with edge weight\n",
        "    'A': [('B', 3), ('C', 1)],\n",
        "    'B': [('D', 3)],\n",
        "    'C': [('D', 1), ('G', 2)],\n",
        "    'D': [('G', 3)],\n",
        "    'G': None\n",
        "}\n",
        "\n",
        "heuristics = {\n",
        "    'S': 4,\n",
        "    'A': 2,\n",
        "    'B': 6,\n",
        "    'C': 2,\n",
        "    'D': 3,\n",
        "    'G': 0\n",
        "}\n",
        "\n",
        "astar('S', 'G')"
      ],
      "metadata": {
        "colab": {
          "base_uri": "https://localhost:8080/"
        },
        "id": "6TortXKURs7k",
        "outputId": "8d45d6e0-e49c-4cea-8000-3d27f0b2e88f"
      },
      "execution_count": 16,
      "outputs": [
        {
          "output_type": "stream",
          "name": "stdout",
          "text": [
            "Path found: \n",
            "S->A->C->G\n"
          ]
        },
        {
          "output_type": "execute_result",
          "data": {
            "text/plain": [
              "['S', 'A', 'C', 'G']"
            ]
          },
          "metadata": {},
          "execution_count": 16
        }
      ]
    },
    {
      "cell_type": "code",
      "source": [
        "#minimax\n",
        "\n",
        "class Node:\n",
        "    def __init__(self, value=None):\n",
        "        self.value=value\n",
        "        self.left =None\n",
        "        self.middle = None\n",
        "        self.right = None\n",
        "\n",
        "    def minimax(self, node, depth, is_maxi):\n",
        "        if depth == 0 or (node.left is None and node.middle is None and node.right is None):\n",
        "            return self.value\n",
        "\n",
        "        if is_maxi:\n",
        "            max_eval = float('-inf')\n",
        "            if self.left:\n",
        "                max_eval = max(max_eval, self.left.minimax(self.left,depth-1, False))\n",
        "            if self.middle:\n",
        "                max_eval = max(max_eval, self.middle.minimax(self.left,depth-1, False))\n",
        "            if self.right:\n",
        "                max_eval = max(max_eval, self.right.minimax(self.left,depth-1, False))\n",
        "            return max_eval\n",
        "        else:\n",
        "            min_eval = float('inf')\n",
        "            if self.left:\n",
        "                min_eval = min(min_eval, self.left.minimax(self.left,depth-1, True))\n",
        "            if self.middle:\n",
        "                min_eval = min(min_eval, self.middle.minimax(self.left,depth-1, True))\n",
        "            if self.right:\n",
        "                min_eval = min(min_eval, self.right.minimax(self.left,depth-1, True))\n",
        "            return min_eval\n",
        "\n",
        "\n",
        "# Constructing the tree\n",
        "\n",
        "root = Node()\n",
        "root.left = Node()\n",
        "root.middle = Node()\n",
        "root.right = Node()\n",
        "\n",
        "root.left.left = Node(3)\n",
        "root.left.middle = Node(12)\n",
        "root.left.right = Node(8)\n",
        "\n",
        "root.middle.left = Node(2)\n",
        "root.middle.middle = Node(4)\n",
        "root.middle.right = Node(6)\n",
        "\n",
        "root.right.left = Node(14)\n",
        "root.right.middle = Node(5)\n",
        "root.right.right = Node(2)\n",
        "\n",
        "\n",
        "minimax_value = root.minimax(root,3,True)\n",
        "print(\"Minimax value is \", minimax_value)"
      ],
      "metadata": {
        "colab": {
          "base_uri": "https://localhost:8080/"
        },
        "id": "fOk5Dwa5lrgu",
        "outputId": "5c69c308-b47b-4b62-9519-8d86fb61bfbf"
      },
      "execution_count": 18,
      "outputs": [
        {
          "output_type": "stream",
          "name": "stdout",
          "text": [
            "Minimax value is  3\n"
          ]
        }
      ]
    },
    {
      "cell_type": "code",
      "source": [
        "#genetic algo\n",
        "\n",
        "import random\n",
        "\n",
        "def initialize_population(population_size, chromosome_length):\n",
        "    return [[random.randint(0, 1) for _ in range(chromosome_length)] for _ in range(population_size)]\n",
        "\n",
        "def fitness_function(individual):\n",
        "    return sum(bit * 2 ** i for i, bit in enumerate(reversed(individual))) ** 2\n",
        "\n",
        "def select_parents(population):\n",
        "    total_fitness = sum(fitness_function(individual) for individual in population)\n",
        "    selection_probabilities = [fitness_function(individual) / total_fitness for individual in population]\n",
        "    return [random.choices(population, weights=selection_probabilities, k=1)[0] for _ in range(2)]\n",
        "\n",
        "def crossover(parent1, parent2, crossover_rate):\n",
        "    if random.random() < crossover_rate:\n",
        "        crossover_point = random.randint(1, len(parent1) - 1)\n",
        "        return parent1[:crossover_point] + parent2[crossover_point:], parent2[:crossover_point] + parent1[crossover_point:]\n",
        "    return parent1, parent2\n",
        "\n",
        "def mutate(individual, mutation_rate):\n",
        "    return [bit if random.random() > mutation_rate else 1 - bit for bit in individual]\n",
        "\n",
        "def evolve(population, mutation_rate, crossover_rate, num_generations):\n",
        "    for generation in range(num_generations):\n",
        "        print(\"\\nFor generation\", generation + 1)\n",
        "        new_population = []\n",
        "        while len(new_population) < len(population):\n",
        "            parent1, parent2 = select_parents(population)\n",
        "            child1, child2 = crossover(parent1, parent2, crossover_rate)\n",
        "            new_population.extend([mutate(child1, mutation_rate), mutate(child2, mutation_rate)])\n",
        "        population = new_population\n",
        "        best_individual = max(population, key=fitness_function)\n",
        "        print(\"Best Fitness:\", fitness_function(best_individual), \"Offspring:\", best_individual)\n",
        "\n",
        "def main():\n",
        "    population_size = int(input(\"Enter the population size: \"))\n",
        "    chromosome_length = int(input(\"Enter the chromosome length: \"))\n",
        "    mutation_rate = float(input(\"Enter the mutation rate: \"))\n",
        "    crossover_rate = float(input(\"Enter the crossover rate: \"))\n",
        "    num_generations = int(input(\"Enter the number of generations: \"))\n",
        "    population = initialize_population(population_size, chromosome_length)\n",
        "    evolve(population, mutation_rate, crossover_rate, num_generations)\n",
        "\n",
        "if __name__ == \"__main__\":\n",
        "    main()\n"
      ],
      "metadata": {
        "colab": {
          "base_uri": "https://localhost:8080/"
        },
        "id": "00VNUCD5lsZM",
        "outputId": "32906c90-c37f-4d73-dc1a-99fac5d38dbd"
      },
      "execution_count": 19,
      "outputs": [
        {
          "output_type": "stream",
          "name": "stdout",
          "text": [
            "Enter the population size: 10\n",
            "Enter the chromosome length: 5\n",
            "Enter the mutation rate: 3\n",
            "Enter the crossover rate: 3\n",
            "Enter the number of generations: 10\n",
            "\n",
            "For generation 1\n",
            "Best Fitness: 196 Offspring: [0, 1, 1, 1, 0]\n",
            "\n",
            "For generation 2\n",
            "Best Fitness: 729 Offspring: [1, 1, 0, 1, 1]\n",
            "\n",
            "For generation 3\n",
            "Best Fitness: 196 Offspring: [0, 1, 1, 1, 0]\n",
            "\n",
            "For generation 4\n",
            "Best Fitness: 361 Offspring: [1, 0, 0, 1, 1]\n",
            "\n",
            "For generation 5\n",
            "Best Fitness: 196 Offspring: [0, 1, 1, 1, 0]\n",
            "\n",
            "For generation 6\n",
            "Best Fitness: 361 Offspring: [1, 0, 0, 1, 1]\n",
            "\n",
            "For generation 7\n",
            "Best Fitness: 196 Offspring: [0, 1, 1, 1, 0]\n",
            "\n",
            "For generation 8\n",
            "Best Fitness: 361 Offspring: [1, 0, 0, 1, 1]\n",
            "\n",
            "For generation 9\n",
            "Best Fitness: 196 Offspring: [0, 1, 1, 1, 0]\n",
            "\n",
            "For generation 10\n",
            "Best Fitness: 361 Offspring: [1, 0, 0, 1, 1]\n"
          ]
        }
      ]
    }
  ]
}